{
 "cells": [
  {
   "cell_type": "code",
   "execution_count": 17,
   "metadata": {
    "colab": {},
    "colab_type": "code",
    "id": "REYPoTJ1Af7u"
   },
   "outputs": [],
   "source": [
    "import warnings\n",
    "warnings.filterwarnings(\"ignore\")\n",
    "from sklearn.datasets import load_boston\n",
    "from random import seed\n",
    "from random import randrange\n",
    "from csv import reader\n",
    "from math import sqrt\n",
    "from sklearn import preprocessing\n",
    "import pandas as pd\n",
    "import numpy as np\n",
    "import matplotlib.pyplot as plt\n",
    "from prettytable import PrettyTable\n",
    "from sklearn.linear_model import SGDRegressor\n",
    "from sklearn import preprocessing\n",
    "from sklearn.metrics import mean_squared_error"
   ]
  },
  {
   "cell_type": "code",
   "execution_count": 185,
   "metadata": {
    "colab": {},
    "colab_type": "code",
    "id": "NTQ2iH-kAwbo"
   },
   "outputs": [],
   "source": [
    "from sklearn.model_selection  import train_test_split\n",
    "X = load_boston().data\n",
    "Y = load_boston().target\n",
    "X_train, X_test, y_train, y_test=train_test_split(X, Y, test_size=0.3)"
   ]
  },
  {
   "cell_type": "code",
   "execution_count": 186,
   "metadata": {
    "colab": {},
    "colab_type": "code",
    "id": "FgUW39s6Be0U"
   },
   "outputs": [
    {
     "data": {
      "text/html": [
       "<div>\n",
       "<style scoped>\n",
       "    .dataframe tbody tr th:only-of-type {\n",
       "        vertical-align: middle;\n",
       "    }\n",
       "\n",
       "    .dataframe tbody tr th {\n",
       "        vertical-align: top;\n",
       "    }\n",
       "\n",
       "    .dataframe thead th {\n",
       "        text-align: right;\n",
       "    }\n",
       "</style>\n",
       "<table border=\"1\" class=\"dataframe\">\n",
       "  <thead>\n",
       "    <tr style=\"text-align: right;\">\n",
       "      <th></th>\n",
       "      <th>0</th>\n",
       "      <th>1</th>\n",
       "      <th>2</th>\n",
       "      <th>3</th>\n",
       "      <th>4</th>\n",
       "      <th>5</th>\n",
       "      <th>6</th>\n",
       "      <th>7</th>\n",
       "      <th>8</th>\n",
       "      <th>9</th>\n",
       "      <th>10</th>\n",
       "      <th>11</th>\n",
       "      <th>12</th>\n",
       "      <th>Y</th>\n",
       "    </tr>\n",
       "  </thead>\n",
       "  <tbody>\n",
       "    <tr>\n",
       "      <th>0</th>\n",
       "      <td>-0.392410</td>\n",
       "      <td>0.589949</td>\n",
       "      <td>-0.894697</td>\n",
       "      <td>-0.26968</td>\n",
       "      <td>-0.898121</td>\n",
       "      <td>-0.251977</td>\n",
       "      <td>-1.429332</td>\n",
       "      <td>1.898028</td>\n",
       "      <td>-0.196990</td>\n",
       "      <td>-0.752811</td>\n",
       "      <td>0.561450</td>\n",
       "      <td>0.394265</td>\n",
       "      <td>-0.802077</td>\n",
       "      <td>23.3</td>\n",
       "    </tr>\n",
       "    <tr>\n",
       "      <th>1</th>\n",
       "      <td>-0.406878</td>\n",
       "      <td>3.788791</td>\n",
       "      <td>-1.457645</td>\n",
       "      <td>-0.26968</td>\n",
       "      <td>-1.276276</td>\n",
       "      <td>0.701448</td>\n",
       "      <td>-1.022689</td>\n",
       "      <td>2.138717</td>\n",
       "      <td>-0.539384</td>\n",
       "      <td>-0.917923</td>\n",
       "      <td>-1.584712</td>\n",
       "      <td>0.417097</td>\n",
       "      <td>-1.212299</td>\n",
       "      <td>31.6</td>\n",
       "    </tr>\n",
       "    <tr>\n",
       "      <th>2</th>\n",
       "      <td>-0.405388</td>\n",
       "      <td>0.717902</td>\n",
       "      <td>0.569560</td>\n",
       "      <td>-0.26968</td>\n",
       "      <td>-0.799081</td>\n",
       "      <td>-0.158198</td>\n",
       "      <td>-1.440128</td>\n",
       "      <td>-0.060002</td>\n",
       "      <td>-0.653516</td>\n",
       "      <td>-0.835367</td>\n",
       "      <td>-0.138385</td>\n",
       "      <td>0.452373</td>\n",
       "      <td>-0.893707</td>\n",
       "      <td>25.0</td>\n",
       "    </tr>\n",
       "    <tr>\n",
       "      <th>3</th>\n",
       "      <td>-0.285190</td>\n",
       "      <td>-0.476332</td>\n",
       "      <td>1.581684</td>\n",
       "      <td>-0.26968</td>\n",
       "      <td>0.641507</td>\n",
       "      <td>0.005206</td>\n",
       "      <td>1.035721</td>\n",
       "      <td>-0.718310</td>\n",
       "      <td>-0.653516</td>\n",
       "      <td>0.149403</td>\n",
       "      <td>1.261285</td>\n",
       "      <td>0.458235</td>\n",
       "      <td>-0.040841</td>\n",
       "      <td>19.6</td>\n",
       "    </tr>\n",
       "    <tr>\n",
       "      <th>4</th>\n",
       "      <td>-0.081728</td>\n",
       "      <td>-0.476332</td>\n",
       "      <td>1.021691</td>\n",
       "      <td>-0.26968</td>\n",
       "      <td>0.920620</td>\n",
       "      <td>-0.800446</td>\n",
       "      <td>-0.745595</td>\n",
       "      <td>-0.342883</td>\n",
       "      <td>1.629114</td>\n",
       "      <td>1.499776</td>\n",
       "      <td>0.794728</td>\n",
       "      <td>-0.184558</td>\n",
       "      <td>0.222772</td>\n",
       "      <td>19.9</td>\n",
       "    </tr>\n",
       "  </tbody>\n",
       "</table>\n",
       "</div>"
      ],
      "text/plain": [
       "          0         1         2        3         4         5         6  \\\n",
       "0 -0.392410  0.589949 -0.894697 -0.26968 -0.898121 -0.251977 -1.429332   \n",
       "1 -0.406878  3.788791 -1.457645 -0.26968 -1.276276  0.701448 -1.022689   \n",
       "2 -0.405388  0.717902  0.569560 -0.26968 -0.799081 -0.158198 -1.440128   \n",
       "3 -0.285190 -0.476332  1.581684 -0.26968  0.641507  0.005206  1.035721   \n",
       "4 -0.081728 -0.476332  1.021691 -0.26968  0.920620 -0.800446 -0.745595   \n",
       "\n",
       "          7         8         9        10        11        12     Y  \n",
       "0  1.898028 -0.196990 -0.752811  0.561450  0.394265 -0.802077  23.3  \n",
       "1  2.138717 -0.539384 -0.917923 -1.584712  0.417097 -1.212299  31.6  \n",
       "2 -0.060002 -0.653516 -0.835367 -0.138385  0.452373 -0.893707  25.0  \n",
       "3 -0.718310 -0.653516  0.149403  1.261285  0.458235 -0.040841  19.6  \n",
       "4 -0.342883  1.629114  1.499776  0.794728 -0.184558  0.222772  19.9  "
      ]
     },
     "execution_count": 186,
     "metadata": {},
     "output_type": "execute_result"
    }
   ],
   "source": [
    "scaler = preprocessing.StandardScaler()\n",
    "X_train = scaler.fit_transform(X_train)\n",
    "X_test=scaler.transform(X_test)\n",
    "df_train=pd.DataFrame(X_train)\n",
    "df_test=pd.DataFrame(X_test)\n",
    "df_train['Y']=y_train\n",
    "df_test[\"Y\"]=y_test\n",
    "df_train.head()"
   ]
  },
  {
   "cell_type": "code",
   "execution_count": 187,
   "metadata": {},
   "outputs": [],
   "source": [
    "def fit_sgd(lr_rate):\n",
    "    W=np.zeros(13).reshape(1,13)\n",
    "    B=0\n",
    "    learning_rate=lr_rate\n",
    "    num_iteration=1000\n",
    "    while num_iteration>=0:\n",
    "        W_temp=np.zeros(13).reshape(1,13) \n",
    "        B_temp=0\n",
    "        p_b=B \n",
    "        p_w=W\n",
    "        temp_data=df_train.sample(10)\n",
    "        y=np.array(temp_data['Y'])\n",
    "        x=temp_data.drop(\"Y\",axis=1)\n",
    "        x=np.array(x)\n",
    "        for i in range(10):\n",
    "            #print(W_temp)\n",
    "            W_temp+=(-2)*x[i]*(y[i]-(np.dot(p_w,x[i]))-p_b)#dl(w)/dw\n",
    "            B_temp+=(-2)*(y[i]-(np.dot(p_w,x[i]))-p_b)#dl(b)/db\n",
    "            #print(B_temp)\n",
    "    \n",
    "        W=(p_w-(learning_rate*(W_temp/10)))#Wj+1=Wj-r((dl/db)wj)\n",
    "        B=(p_b-(learning_rate*(B_temp/10)))#Bj+1=Bj-r((dl/db)bj)\n",
    "        #learning_rate=learning_rate/2\n",
    "    \n",
    "        if(p_w==W).all():\n",
    "            break\n",
    "        num_iteration-=1\n",
    "        \n",
    "        \n",
    "        \n",
    "    return W,B    "
   ]
  },
  {
   "cell_type": "code",
   "execution_count": 188,
   "metadata": {},
   "outputs": [],
   "source": [
    "def predict_y(W,B):\n",
    "    te_predicted=[]\n",
    "    tr_predicted=[]\n",
    "    for j in range(len(X_test)):\n",
    "        pred_val=np.dot(W,X_test[j])+B\n",
    "        te_predicted.append(np.asscalar(pred_val))\n",
    "    te_error=mean_squared_error(y_test,te_predicted)  \n",
    "    for k in range(len(X_train)):\n",
    "        pred_val=np.dot(W,X_train[k])+B\n",
    "        tr_predicted.append(np.asscalar(pred_val))\n",
    "    tr_error=mean_squared_error(y_train,tr_predicted)     \n",
    "    #print(error)\n",
    "    return te_error,tr_error"
   ]
  },
  {
   "cell_type": "code",
   "execution_count": 189,
   "metadata": {},
   "outputs": [],
   "source": [
    "X_test = np.array(X_test)\n",
    "Y_test=np.array(y_test)"
   ]
  },
  {
   "cell_type": "code",
   "execution_count": 190,
   "metadata": {},
   "outputs": [
    {
     "name": "stdout",
     "output_type": "stream",
     "text": [
      "alpha:1e-10 -> Train error612.5391526505889 | Test error 544.6534605372182\n",
      "alpha:1e-09 -> Train error612.5363764967029 | Test error 544.650879874837\n",
      "alpha:1e-08 -> Train error612.5089828854838 | Test error 544.6253957601785\n",
      "alpha:1e-07 -> Train error612.2357082555013 | Test error 544.3714175210334\n",
      "alpha:1e-06 -> Train error609.4369285548715 | Test error 541.7711452627358\n",
      "alpha:1e-05 -> Train error582.3757434038783 | Test error 516.7711596432447\n",
      "alpha:0.0001 -> Train error395.4167629773064 | Test error 346.0926337728074\n",
      "alpha:0.001 -> Train error33.42526761188138 | Test error 28.156530895466595\n",
      "alpha:0.01 -> Train error22.727688612897918 | Test error 21.795514424958487\n",
      "alpha:0.1 -> Train error29.968656431260005 | Test error 30.056963009806935\n",
      "Vector W-> [[-1.32779763  0.64199355  0.68211364  1.96958431 -1.93089349  2.7174515\n",
      "   0.56022485 -3.68663973  1.13313951 -2.02793923 -2.36557061 -0.08875712\n",
      "  -5.55215717]]\n",
      "Scalar B-> [23.5743354]\n"
     ]
    }
   ],
   "source": [
    "te_error_list=[]\n",
    "tr_error_list=[]\n",
    "alpha=[10**i for i in range(-10,0) ]\n",
    "for i in alpha:\n",
    "    W_final,B_final=fit_sgd(i)\n",
    "    te_error,tr_error=predict_y(W_final,B_final)\n",
    "    print(\"alpha:{} -> Train error{} | Test error {}\".format(i,tr_error,te_error))\n",
    "    te_error_list.append(te_error)\n",
    "    tr_error_list.append(tr_error)\n",
    "print(\"Vector W->\",W_final)\n",
    "print(\"Scalar B->\",B_final)"
   ]
  },
  {
   "cell_type": "code",
   "execution_count": 191,
   "metadata": {},
   "outputs": [
    {
     "data": {
      "image/png": "[encoded data removed]",
      "text/plain": [
       "<Figure size 432x288 with 1 Axes>"
      ]
     },
     "metadata": {
      "needs_background": "light"
     },
     "output_type": "display_data"
    }
   ],
   "source": [
    "import math\n",
    "alpha=[math.log10(i) for i in alpha]\n",
    "plt.plot(alpha,tr_error_list,label='train MSE')\n",
    "plt.plot(alpha,te_error_list,label='test MSE')\n",
    "plt.xlabel(\"Learing rate\")\n",
    "plt.ylabel(\"MES\")\n",
    "plt.scatter(alpha,tr_error_list)\n",
    "plt.scatter(alpha,te_error_list)\n",
    "plt.legend()\n",
    "plt.title(\"learing rate VS MSE\")\n",
    "plt.show()"
   ]
  },
  {
   "cell_type": "markdown",
   "metadata": {},
   "source": [
    "1. From the above figure we can see than ,alpha=0.01 is giving best result"
   ]
  },
  {
   "cell_type": "code",
   "execution_count": 192,
   "metadata": {},
   "outputs": [
    {
     "data": {
      "text/plain": [
       "Text(0, 0.5, 'Actual price')"
      ]
     },
     "execution_count": 192,
     "metadata": {},
     "output_type": "execute_result"
    },
    {
     "data": {
      "image/png": "[encoded data removed]",
      "text/plain": [
       "<Figure size 432x288 with 1 Axes>"
      ]
     },
     "metadata": {
      "needs_background": "light"
     },
     "output_type": "display_data"
    }
   ],
   "source": [
    "pred_values=[]\n",
    "W_final,B_final=fit_sgd(0.01)\n",
    "for j in range(len(X_test)):\n",
    "    pred_val=np.dot(W_final,X_test[j])+B_final\n",
    "    pred_values.append(pred_val)\n",
    "plt.scatter(y_test,pred_values)    \n",
    "plt.title(\"Actual price VS predicted price of implemented SGD\")\n",
    "plt.xlabel(\"Predicted price\")\n",
    "plt.ylabel(\"Actual price\")"
   ]
  },
  {
   "cell_type": "code",
   "execution_count": 193,
   "metadata": {},
   "outputs": [
    {
     "name": "stdout",
     "output_type": "stream",
     "text": [
      "Test error 21.857572018520077\n",
      "Train error 22.426923563307376\n"
     ]
    }
   ],
   "source": [
    "clf = SGDRegressor(alpha=0.01)\n",
    "clf.fit(X_train,y_train)\n",
    "print(\"Test error\",mean_squared_error(y_test, clf.predict(X_test)))\n",
    "print(\"Train error\",mean_squared_error(y_train, clf.predict(X_train)))"
   ]
  },
  {
   "cell_type": "code",
   "execution_count": 194,
   "metadata": {},
   "outputs": [
    {
     "data": {
      "text/plain": [
       "Text(0, 0.5, 'Actual price')"
      ]
     },
     "execution_count": 194,
     "metadata": {},
     "output_type": "execute_result"
    },
    {
     "data": {
      "image/png": "[encoded data removed]",
      "text/plain": [
       "<Figure size 432x288 with 1 Axes>"
      ]
     },
     "metadata": {
      "needs_background": "light"
     },
     "output_type": "display_data"
    }
   ],
   "source": [
    "pred_values_sk=[]\n",
    "for j in range(len(X_test)):\n",
    "    pred_val=clf.predict(X_test[j].reshape(1,-1))\n",
    "    pred_values_sk.append(pred_val) \n",
    "plt.scatter(y_test,pred_values_sk)    \n",
    "plt.title(\"Actual price VS predicted price of sklearn SGD\")\n",
    "plt.xlabel(\"Predicted price\")\n",
    "plt.ylabel(\"Actual price\")"
   ]
  },
  {
   "cell_type": "code",
   "execution_count": 195,
   "metadata": {},
   "outputs": [
    {
     "name": "stdout",
     "output_type": "stream",
     "text": [
      "+-------------+-------+-------------+------------+\n",
      "|     SGD     | Alpha | Train error | Test error |\n",
      "+-------------+-------+-------------+------------+\n",
      "| implemented |  0.01 |    22.727   |   21.795   |\n",
      "|   sklearn   |  0.01 |    22.426   |   21.857   |\n",
      "+-------------+-------+-------------+------------+\n"
     ]
    }
   ],
   "source": [
    "from prettytable import PrettyTable \n",
    "x = PrettyTable()\n",
    "\n",
    "x.field_names = [\"SGD\", \"Alpha\",\"Train error\", \"Test error\"]\n",
    "\n",
    "x.add_row([\"implemented\", 0.01,22.727 , 21.795])\n",
    "x.add_row([\"sklearn\", 0.01,22.426 , 21.857])\n",
    "print(x)"
   ]
  }
 ],
 "metadata": {
  "colab": {
   "name": "Untitled3.ipynb",
   "provenance": [],
   "version": "0.3.2"
  },
  "kernelspec": {
   "display_name": "Python 3",
   "language": "python",
   "name": "python3"
  },
  "language_info": {
   "codemirror_mode": {
    "name": "ipython",
    "version": 3
   },
   "file_extension": ".py",
   "mimetype": "text/x-python",
   "name": "python",
   "nbconvert_exporter": "python",
   "pygments_lexer": "ipython3",
   "version": "3.6.8"
  }
 },
 "nbformat": 4,
 "nbformat_minor": 1
}
